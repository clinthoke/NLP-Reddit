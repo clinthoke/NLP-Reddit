{
 "cells": [
  {
   "cell_type": "code",
   "execution_count": 163,
   "metadata": {},
   "outputs": [],
   "source": [
    "import pandas as pd\n",
    "import numpy as np\n",
    "import re\n",
    "import string\n",
    "from sklearn.model_selection import train_test_split, GridSearchCV\n",
    "from sklearn.pipeline import Pipeline\n",
    "from sklearn.linear_model import LogisticRegression\n",
    "from nltk.tokenize import RegexpTokenizer\n",
    "from sklearn.feature_extraction.text import CountVectorizer, TfidfVectorizer\n",
    "from nltk.corpus import stopwords\n",
    "from nltk.stem import WordNetLemmatizer\n",
    "from sklearn.feature_extraction.text import CountVectorizer, TfidfVectorizer\n",
    "from sklearn.feature_extraction import text\n",
    "from sklearn.metrics import confusion_matrix, plot_confusion_matrix\n",
    "from sklearn.naive_bayes import GaussianNB\n",
    "import collections\n",
    "from wordcloud import WordCloud\n",
    "import matplotlib.pyplot as plt\n",
    "from nltk.stem.porter import PorterStemmer"
   ]
  },
  {
   "cell_type": "markdown",
   "metadata": {},
   "source": [
    "# Disney"
   ]
  },
  {
   "cell_type": "code",
   "execution_count": 164,
   "metadata": {},
   "outputs": [
    {
     "data": {
      "text/html": [
       "<div>\n",
       "<style scoped>\n",
       "    .dataframe tbody tr th:only-of-type {\n",
       "        vertical-align: middle;\n",
       "    }\n",
       "\n",
       "    .dataframe tbody tr th {\n",
       "        vertical-align: top;\n",
       "    }\n",
       "\n",
       "    .dataframe thead th {\n",
       "        text-align: right;\n",
       "    }\n",
       "</style>\n",
       "<table border=\"1\" class=\"dataframe\">\n",
       "  <thead>\n",
       "    <tr style=\"text-align: right;\">\n",
       "      <th></th>\n",
       "      <th>subreddit</th>\n",
       "      <th>selftext</th>\n",
       "      <th>title</th>\n",
       "    </tr>\n",
       "  </thead>\n",
       "  <tbody>\n",
       "    <tr>\n",
       "      <th>0</th>\n",
       "      <td>DisneyWorld</td>\n",
       "      <td>NaN</td>\n",
       "      <td>The magical world of.... twitter</td>\n",
       "    </tr>\n",
       "    <tr>\n",
       "      <th>1</th>\n",
       "      <td>DisneyWorld</td>\n",
       "      <td>NaN</td>\n",
       "      <td>There are many Main Streets in America, but th...</td>\n",
       "    </tr>\n",
       "  </tbody>\n",
       "</table>\n",
       "</div>"
      ],
      "text/plain": [
       "     subreddit selftext                                              title\n",
       "0  DisneyWorld      NaN                   The magical world of.... twitter\n",
       "1  DisneyWorld      NaN  There are many Main Streets in America, but th..."
      ]
     },
     "execution_count": 164,
     "metadata": {},
     "output_type": "execute_result"
    }
   ],
   "source": [
    "# Opened Disney CSV\n",
    "disney = pd.read_csv('./Disney.csv',\n",
    "                 sep=',')\n",
    "disney.head(2)"
   ]
  },
  {
   "cell_type": "code",
   "execution_count": 165,
   "metadata": {},
   "outputs": [
    {
     "data": {
      "text/plain": [
       "(2000, 3)"
      ]
     },
     "execution_count": 165,
     "metadata": {},
     "output_type": "execute_result"
    }
   ],
   "source": [
    "# There were no duplicates and I viewed the sahape\n",
    "disney.drop_duplicates()\n",
    "disney.shape\n"
   ]
  },
  {
   "cell_type": "code",
   "execution_count": 166,
   "metadata": {},
   "outputs": [
    {
     "data": {
      "text/html": [
       "<div>\n",
       "<style scoped>\n",
       "    .dataframe tbody tr th:only-of-type {\n",
       "        vertical-align: middle;\n",
       "    }\n",
       "\n",
       "    .dataframe tbody tr th {\n",
       "        vertical-align: top;\n",
       "    }\n",
       "\n",
       "    .dataframe thead th {\n",
       "        text-align: right;\n",
       "    }\n",
       "</style>\n",
       "<table border=\"1\" class=\"dataframe\">\n",
       "  <thead>\n",
       "    <tr style=\"text-align: right;\">\n",
       "      <th></th>\n",
       "      <th>subreddit</th>\n",
       "      <th>selftext</th>\n",
       "      <th>title</th>\n",
       "    </tr>\n",
       "  </thead>\n",
       "  <tbody>\n",
       "    <tr>\n",
       "      <th>0</th>\n",
       "      <td>DisneyWorld</td>\n",
       "      <td>missingtextmissingtext</td>\n",
       "      <td>The magical world of.... twitter</td>\n",
       "    </tr>\n",
       "    <tr>\n",
       "      <th>1</th>\n",
       "      <td>DisneyWorld</td>\n",
       "      <td>missingtextmissingtext</td>\n",
       "      <td>There are many Main Streets in America, but th...</td>\n",
       "    </tr>\n",
       "  </tbody>\n",
       "</table>\n",
       "</div>"
      ],
      "text/plain": [
       "     subreddit                selftext  \\\n",
       "0  DisneyWorld  missingtextmissingtext   \n",
       "1  DisneyWorld  missingtextmissingtext   \n",
       "\n",
       "                                               title  \n",
       "0                   The magical world of.... twitter  \n",
       "1  There are many Main Streets in America, but th...  "
      ]
     },
     "execution_count": 166,
     "metadata": {},
     "output_type": "execute_result"
    }
   ],
   "source": [
    "# Added text to fill NAN values\n",
    "disney.fillna('missingtextmissingtext', inplace=True)\n",
    "disney.head(2)"
   ]
  },
  {
   "cell_type": "code",
   "execution_count": 5,
   "metadata": {},
   "outputs": [
    {
     "data": {
      "text/html": [
       "<div>\n",
       "<style scoped>\n",
       "    .dataframe tbody tr th:only-of-type {\n",
       "        vertical-align: middle;\n",
       "    }\n",
       "\n",
       "    .dataframe tbody tr th {\n",
       "        vertical-align: top;\n",
       "    }\n",
       "\n",
       "    .dataframe thead th {\n",
       "        text-align: right;\n",
       "    }\n",
       "</style>\n",
       "<table border=\"1\" class=\"dataframe\">\n",
       "  <thead>\n",
       "    <tr style=\"text-align: right;\">\n",
       "      <th></th>\n",
       "      <th>subreddit</th>\n",
       "      <th>selftext</th>\n",
       "      <th>title</th>\n",
       "      <th>title_text</th>\n",
       "    </tr>\n",
       "  </thead>\n",
       "  <tbody>\n",
       "    <tr>\n",
       "      <th>0</th>\n",
       "      <td>DisneyWorld</td>\n",
       "      <td>missingtextmissingtext</td>\n",
       "      <td>The magical world of.... twitter</td>\n",
       "      <td>The magical world of.... twitter missingtextmi...</td>\n",
       "    </tr>\n",
       "    <tr>\n",
       "      <th>1</th>\n",
       "      <td>DisneyWorld</td>\n",
       "      <td>missingtextmissingtext</td>\n",
       "      <td>There are many Main Streets in America, but th...</td>\n",
       "      <td>There are many Main Streets in America, but th...</td>\n",
       "    </tr>\n",
       "  </tbody>\n",
       "</table>\n",
       "</div>"
      ],
      "text/plain": [
       "     subreddit                selftext  \\\n",
       "0  DisneyWorld  missingtextmissingtext   \n",
       "1  DisneyWorld  missingtextmissingtext   \n",
       "\n",
       "                                               title  \\\n",
       "0                   The magical world of.... twitter   \n",
       "1  There are many Main Streets in America, but th...   \n",
       "\n",
       "                                          title_text  \n",
       "0  The magical world of.... twitter missingtextmi...  \n",
       "1  There are many Main Streets in America, but th...  "
      ]
     },
     "execution_count": 5,
     "metadata": {},
     "output_type": "execute_result"
    }
   ],
   "source": [
    "# Combined the text and title columns\n",
    "disney['title_text'] = disney['title'] + ' ' + disney['selftext']\n",
    "disney.head(2)"
   ]
  },
  {
   "cell_type": "code",
   "execution_count": 6,
   "metadata": {},
   "outputs": [
    {
     "data": {
      "text/html": [
       "<div>\n",
       "<style scoped>\n",
       "    .dataframe tbody tr th:only-of-type {\n",
       "        vertical-align: middle;\n",
       "    }\n",
       "\n",
       "    .dataframe tbody tr th {\n",
       "        vertical-align: top;\n",
       "    }\n",
       "\n",
       "    .dataframe thead th {\n",
       "        text-align: right;\n",
       "    }\n",
       "</style>\n",
       "<table border=\"1\" class=\"dataframe\">\n",
       "  <thead>\n",
       "    <tr style=\"text-align: right;\">\n",
       "      <th></th>\n",
       "      <th>subreddit</th>\n",
       "      <th>title_text</th>\n",
       "    </tr>\n",
       "  </thead>\n",
       "  <tbody>\n",
       "    <tr>\n",
       "      <th>0</th>\n",
       "      <td>DisneyWorld</td>\n",
       "      <td>The magical world of.... twitter missingtextmi...</td>\n",
       "    </tr>\n",
       "    <tr>\n",
       "      <th>1</th>\n",
       "      <td>DisneyWorld</td>\n",
       "      <td>There are many Main Streets in America, but th...</td>\n",
       "    </tr>\n",
       "  </tbody>\n",
       "</table>\n",
       "</div>"
      ],
      "text/plain": [
       "     subreddit                                         title_text\n",
       "0  DisneyWorld  The magical world of.... twitter missingtextmi...\n",
       "1  DisneyWorld  There are many Main Streets in America, but th..."
      ]
     },
     "execution_count": 6,
     "metadata": {},
     "output_type": "execute_result"
    }
   ],
   "source": [
    "# Dropped the old text and title coulmns\n",
    "disney = disney.drop(['selftext', 'title'], axis = 1)\n",
    "disney.head(2)"
   ]
  },
  {
   "cell_type": "markdown",
   "metadata": {},
   "source": [
    "# Universal"
   ]
  },
  {
   "cell_type": "code",
   "execution_count": 7,
   "metadata": {},
   "outputs": [
    {
     "data": {
      "text/html": [
       "<div>\n",
       "<style scoped>\n",
       "    .dataframe tbody tr th:only-of-type {\n",
       "        vertical-align: middle;\n",
       "    }\n",
       "\n",
       "    .dataframe tbody tr th {\n",
       "        vertical-align: top;\n",
       "    }\n",
       "\n",
       "    .dataframe thead th {\n",
       "        text-align: right;\n",
       "    }\n",
       "</style>\n",
       "<table border=\"1\" class=\"dataframe\">\n",
       "  <thead>\n",
       "    <tr style=\"text-align: right;\">\n",
       "      <th></th>\n",
       "      <th>subreddit</th>\n",
       "      <th>selftext</th>\n",
       "      <th>title</th>\n",
       "    </tr>\n",
       "  </thead>\n",
       "  <tbody>\n",
       "    <tr>\n",
       "      <th>0</th>\n",
       "      <td>UniversalOrlando</td>\n",
       "      <td>Alright guys - my first trip to Orlando is in ...</td>\n",
       "      <td>First Orlando trip September!</td>\n",
       "    </tr>\n",
       "    <tr>\n",
       "      <th>1</th>\n",
       "      <td>UniversalOrlando</td>\n",
       "      <td>Hi just looking for the place for the cheapest...</td>\n",
       "      <td>Best place for cheapest tickets?</td>\n",
       "    </tr>\n",
       "  </tbody>\n",
       "</table>\n",
       "</div>"
      ],
      "text/plain": [
       "          subreddit                                           selftext  \\\n",
       "0  UniversalOrlando  Alright guys - my first trip to Orlando is in ...   \n",
       "1  UniversalOrlando  Hi just looking for the place for the cheapest...   \n",
       "\n",
       "                              title  \n",
       "0     First Orlando trip September!  \n",
       "1  Best place for cheapest tickets?  "
      ]
     },
     "execution_count": 7,
     "metadata": {},
     "output_type": "execute_result"
    }
   ],
   "source": [
    "# OPened the Universal CSV file\n",
    "universal = pd.read_csv('./universal.csv',\n",
    "                 sep=',')\n",
    "universal.head(2)"
   ]
  },
  {
   "cell_type": "code",
   "execution_count": 8,
   "metadata": {},
   "outputs": [
    {
     "data": {
      "text/plain": [
       "(2000, 3)"
      ]
     },
     "execution_count": 8,
     "metadata": {},
     "output_type": "execute_result"
    }
   ],
   "source": [
    "# THre were no duplicates and I viewed the shape\n",
    "universal.drop_duplicates()\n",
    "universal.shape"
   ]
  },
  {
   "cell_type": "code",
   "execution_count": 9,
   "metadata": {},
   "outputs": [
    {
     "data": {
      "text/html": [
       "<div>\n",
       "<style scoped>\n",
       "    .dataframe tbody tr th:only-of-type {\n",
       "        vertical-align: middle;\n",
       "    }\n",
       "\n",
       "    .dataframe tbody tr th {\n",
       "        vertical-align: top;\n",
       "    }\n",
       "\n",
       "    .dataframe thead th {\n",
       "        text-align: right;\n",
       "    }\n",
       "</style>\n",
       "<table border=\"1\" class=\"dataframe\">\n",
       "  <thead>\n",
       "    <tr style=\"text-align: right;\">\n",
       "      <th></th>\n",
       "      <th>subreddit</th>\n",
       "      <th>selftext</th>\n",
       "      <th>title</th>\n",
       "    </tr>\n",
       "  </thead>\n",
       "  <tbody>\n",
       "    <tr>\n",
       "      <th>0</th>\n",
       "      <td>UniversalOrlando</td>\n",
       "      <td>Alright guys - my first trip to Orlando is in ...</td>\n",
       "      <td>First Orlando trip September!</td>\n",
       "    </tr>\n",
       "    <tr>\n",
       "      <th>1</th>\n",
       "      <td>UniversalOrlando</td>\n",
       "      <td>Hi just looking for the place for the cheapest...</td>\n",
       "      <td>Best place for cheapest tickets?</td>\n",
       "    </tr>\n",
       "  </tbody>\n",
       "</table>\n",
       "</div>"
      ],
      "text/plain": [
       "          subreddit                                           selftext  \\\n",
       "0  UniversalOrlando  Alright guys - my first trip to Orlando is in ...   \n",
       "1  UniversalOrlando  Hi just looking for the place for the cheapest...   \n",
       "\n",
       "                              title  \n",
       "0     First Orlando trip September!  \n",
       "1  Best place for cheapest tickets?  "
      ]
     },
     "execution_count": 9,
     "metadata": {},
     "output_type": "execute_result"
    }
   ],
   "source": [
    "# Added text to fill NAN values\n",
    "\n",
    "universal.fillna('missingtextmissingtext', inplace=True)\n",
    "universal.head(2)"
   ]
  },
  {
   "cell_type": "code",
   "execution_count": 10,
   "metadata": {},
   "outputs": [
    {
     "data": {
      "text/html": [
       "<div>\n",
       "<style scoped>\n",
       "    .dataframe tbody tr th:only-of-type {\n",
       "        vertical-align: middle;\n",
       "    }\n",
       "\n",
       "    .dataframe tbody tr th {\n",
       "        vertical-align: top;\n",
       "    }\n",
       "\n",
       "    .dataframe thead th {\n",
       "        text-align: right;\n",
       "    }\n",
       "</style>\n",
       "<table border=\"1\" class=\"dataframe\">\n",
       "  <thead>\n",
       "    <tr style=\"text-align: right;\">\n",
       "      <th></th>\n",
       "      <th>subreddit</th>\n",
       "      <th>selftext</th>\n",
       "      <th>title</th>\n",
       "      <th>title_text</th>\n",
       "    </tr>\n",
       "  </thead>\n",
       "  <tbody>\n",
       "    <tr>\n",
       "      <th>0</th>\n",
       "      <td>UniversalOrlando</td>\n",
       "      <td>Alright guys - my first trip to Orlando is in ...</td>\n",
       "      <td>First Orlando trip September!</td>\n",
       "      <td>First Orlando trip September! Alright guys - m...</td>\n",
       "    </tr>\n",
       "    <tr>\n",
       "      <th>1</th>\n",
       "      <td>UniversalOrlando</td>\n",
       "      <td>Hi just looking for the place for the cheapest...</td>\n",
       "      <td>Best place for cheapest tickets?</td>\n",
       "      <td>Best place for cheapest tickets? Hi just looki...</td>\n",
       "    </tr>\n",
       "  </tbody>\n",
       "</table>\n",
       "</div>"
      ],
      "text/plain": [
       "          subreddit                                           selftext  \\\n",
       "0  UniversalOrlando  Alright guys - my first trip to Orlando is in ...   \n",
       "1  UniversalOrlando  Hi just looking for the place for the cheapest...   \n",
       "\n",
       "                              title  \\\n",
       "0     First Orlando trip September!   \n",
       "1  Best place for cheapest tickets?   \n",
       "\n",
       "                                          title_text  \n",
       "0  First Orlando trip September! Alright guys - m...  \n",
       "1  Best place for cheapest tickets? Hi just looki...  "
      ]
     },
     "execution_count": 10,
     "metadata": {},
     "output_type": "execute_result"
    }
   ],
   "source": [
    "# Combined the text and title columns\n",
    "\n",
    "universal['title_text'] = universal['title'] + ' ' + universal['selftext']\n",
    "universal.head(2)"
   ]
  },
  {
   "cell_type": "code",
   "execution_count": 11,
   "metadata": {},
   "outputs": [
    {
     "data": {
      "text/html": [
       "<div>\n",
       "<style scoped>\n",
       "    .dataframe tbody tr th:only-of-type {\n",
       "        vertical-align: middle;\n",
       "    }\n",
       "\n",
       "    .dataframe tbody tr th {\n",
       "        vertical-align: top;\n",
       "    }\n",
       "\n",
       "    .dataframe thead th {\n",
       "        text-align: right;\n",
       "    }\n",
       "</style>\n",
       "<table border=\"1\" class=\"dataframe\">\n",
       "  <thead>\n",
       "    <tr style=\"text-align: right;\">\n",
       "      <th></th>\n",
       "      <th>subreddit</th>\n",
       "      <th>title_text</th>\n",
       "    </tr>\n",
       "  </thead>\n",
       "  <tbody>\n",
       "    <tr>\n",
       "      <th>0</th>\n",
       "      <td>UniversalOrlando</td>\n",
       "      <td>First Orlando trip September! Alright guys - m...</td>\n",
       "    </tr>\n",
       "    <tr>\n",
       "      <th>1</th>\n",
       "      <td>UniversalOrlando</td>\n",
       "      <td>Best place for cheapest tickets? Hi just looki...</td>\n",
       "    </tr>\n",
       "  </tbody>\n",
       "</table>\n",
       "</div>"
      ],
      "text/plain": [
       "          subreddit                                         title_text\n",
       "0  UniversalOrlando  First Orlando trip September! Alright guys - m...\n",
       "1  UniversalOrlando  Best place for cheapest tickets? Hi just looki..."
      ]
     },
     "execution_count": 11,
     "metadata": {},
     "output_type": "execute_result"
    }
   ],
   "source": [
    "# Dropped the old text and title coulmns\n",
    "universal = universal.drop(['selftext', 'title'], axis = 1)\n",
    "universal.head(2)"
   ]
  },
  {
   "cell_type": "markdown",
   "metadata": {},
   "source": [
    "# Fun"
   ]
  },
  {
   "cell_type": "code",
   "execution_count": 12,
   "metadata": {},
   "outputs": [
    {
     "data": {
      "text/html": [
       "<div>\n",
       "<style scoped>\n",
       "    .dataframe tbody tr th:only-of-type {\n",
       "        vertical-align: middle;\n",
       "    }\n",
       "\n",
       "    .dataframe tbody tr th {\n",
       "        vertical-align: top;\n",
       "    }\n",
       "\n",
       "    .dataframe thead th {\n",
       "        text-align: right;\n",
       "    }\n",
       "</style>\n",
       "<table border=\"1\" class=\"dataframe\">\n",
       "  <thead>\n",
       "    <tr style=\"text-align: right;\">\n",
       "      <th></th>\n",
       "      <th>subreddit</th>\n",
       "      <th>title_text</th>\n",
       "    </tr>\n",
       "  </thead>\n",
       "  <tbody>\n",
       "    <tr>\n",
       "      <th>0</th>\n",
       "      <td>DisneyWorld</td>\n",
       "      <td>The magical world of.... twitter missingtextmi...</td>\n",
       "    </tr>\n",
       "    <tr>\n",
       "      <th>1</th>\n",
       "      <td>DisneyWorld</td>\n",
       "      <td>There are many Main Streets in America, but th...</td>\n",
       "    </tr>\n",
       "  </tbody>\n",
       "</table>\n",
       "</div>"
      ],
      "text/plain": [
       "     subreddit                                         title_text\n",
       "0  DisneyWorld  The magical world of.... twitter missingtextmi...\n",
       "1  DisneyWorld  There are many Main Streets in America, but th..."
      ]
     },
     "execution_count": 12,
     "metadata": {},
     "output_type": "execute_result"
    }
   ],
   "source": [
    "# Combined the Disney and Universal dataframes\n",
    "fun = pd.concat([disney, universal])\n",
    "fun.head(2)"
   ]
  },
  {
   "cell_type": "code",
   "execution_count": 13,
   "metadata": {},
   "outputs": [
    {
     "data": {
      "text/plain": [
       "(4000, 2)"
      ]
     },
     "execution_count": 13,
     "metadata": {},
     "output_type": "execute_result"
    }
   ],
   "source": [
    "# Viewed the shape\n",
    "fun.shape"
   ]
  },
  {
   "cell_type": "code",
   "execution_count": 14,
   "metadata": {},
   "outputs": [
    {
     "name": "stdout",
     "output_type": "stream",
     "text": [
      "<class 'pandas.core.frame.DataFrame'>\n",
      "Int64Index: 4000 entries, 0 to 1999\n",
      "Data columns (total 2 columns):\n",
      " #   Column      Non-Null Count  Dtype \n",
      "---  ------      --------------  ----- \n",
      " 0   subreddit   4000 non-null   object\n",
      " 1   title_text  4000 non-null   object\n",
      "dtypes: object(2)\n",
      "memory usage: 93.8+ KB\n"
     ]
    }
   ],
   "source": [
    "# VIewed info about the dataframe\n",
    "fun.info()"
   ]
  },
  {
   "cell_type": "code",
   "execution_count": 15,
   "metadata": {},
   "outputs": [],
   "source": [
    "# fun.fillna('missingtextmissingtext', inplace=True)\n",
    "# fun.head(2)"
   ]
  },
  {
   "cell_type": "code",
   "execution_count": 16,
   "metadata": {},
   "outputs": [
    {
     "data": {
      "text/html": [
       "<div>\n",
       "<style scoped>\n",
       "    .dataframe tbody tr th:only-of-type {\n",
       "        vertical-align: middle;\n",
       "    }\n",
       "\n",
       "    .dataframe tbody tr th {\n",
       "        vertical-align: top;\n",
       "    }\n",
       "\n",
       "    .dataframe thead th {\n",
       "        text-align: right;\n",
       "    }\n",
       "</style>\n",
       "<table border=\"1\" class=\"dataframe\">\n",
       "  <thead>\n",
       "    <tr style=\"text-align: right;\">\n",
       "      <th></th>\n",
       "      <th>label</th>\n",
       "      <th>title_text</th>\n",
       "    </tr>\n",
       "  </thead>\n",
       "  <tbody>\n",
       "    <tr>\n",
       "      <th>0</th>\n",
       "      <td>1</td>\n",
       "      <td>The magical world of.... twitter missingtextmi...</td>\n",
       "    </tr>\n",
       "    <tr>\n",
       "      <th>1</th>\n",
       "      <td>1</td>\n",
       "      <td>There are many Main Streets in America, but th...</td>\n",
       "    </tr>\n",
       "  </tbody>\n",
       "</table>\n",
       "</div>"
      ],
      "text/plain": [
       "   label                                         title_text\n",
       "0      1  The magical world of.... twitter missingtextmi...\n",
       "1      1  There are many Main Streets in America, but th..."
      ]
     },
     "execution_count": 16,
     "metadata": {},
     "output_type": "execute_result"
    }
   ],
   "source": [
    "fun = fun.rename(columns ={'subreddit': 'label'})\n",
    "fun['label'] = np.where(fun['label'] == 'DisneyWorld', 1, 0)\n",
    "fun.head(2)"
   ]
  },
  {
   "cell_type": "code",
   "execution_count": 17,
   "metadata": {},
   "outputs": [],
   "source": [
    "# Make All lowercase\n",
    "# Remove HTML special entities (e.g. &amp;)\n",
    "# Remove hyperlinks\n",
    "\n",
    "def clean_words(words):\n",
    "    words = words.lower()\n",
    "    words = re.sub(r'\\&\\w*;', '', words)\n",
    "    words = re.sub(r'https?:\\/\\/.*\\/\\w*', '', words)\n",
    "    # Remhttp://localhost:8888/notebooks/Desktop/DSIR/Submissions/Projects/project_3-master/DvsU-Copy1%20Changed.ipynb#Lemmatizeove punctuation and split 's, 't, 've with a space for filter\n",
    "    words = re.sub(r'[' + string.punctuation.replace('@', '') + ']+', ' ', words)\n",
    "    # Remove words with 2 or fewer letters\n",
    "    words = re.sub(r'\\b\\w{1,2}\\b', '', words)\n",
    "    # Remove whitespace (including new line characters)\n",
    "    words = re.sub(r'\\s\\s+', ' ', words)\n",
    "    # Remove characters beyond Basic Multilingual Plane (BMP) of Unicode:\n",
    "    words = ''.join(c for c in words if c <= '\\uFFFF') \n",
    "#     words = re.sub(\"[^a-zA-Z]\",           # The pattern to search for\n",
    "#                       \" \",                   # The pattern to replace it with\n",
    "#                       words)   # The text to search\n",
    "    return words"
   ]
  },
  {
   "cell_type": "code",
   "execution_count": 18,
   "metadata": {},
   "outputs": [
    {
     "data": {
      "text/plain": [
       "(4000, 2)"
      ]
     },
     "execution_count": 18,
     "metadata": {},
     "output_type": "execute_result"
    }
   ],
   "source": [
    "Applied cleaning function to dataframe\n",
    "fun['title_text'] = fun['title_text'].apply(clean_words)\n",
    "fun.shape"
   ]
  },
  {
   "cell_type": "markdown",
   "metadata": {},
   "source": [
    "# Stop Words"
   ]
  },
  {
   "cell_type": "code",
   "execution_count": 19,
   "metadata": {},
   "outputs": [
    {
     "name": "stdout",
     "output_type": "stream",
     "text": [
      "['i', 'me', 'my', 'myself', 'we', 'our', 'ours', 'ourselves', 'you', \"you're\", \"you've\", \"you'll\", \"you'd\", 'your', 'yours', 'yourself', 'yourselves', 'he', 'him', 'his', 'himself', 'she', \"she's\", 'her', 'hers', 'herself', 'it', \"it's\", 'its', 'itself', 'they', 'them', 'their', 'theirs', 'themselves', 'what', 'which', 'who', 'whom', 'this', 'that', \"that'll\", 'these', 'those', 'am', 'is', 'are', 'was', 'were', 'be', 'been', 'being', 'have', 'has', 'had', 'having', 'do', 'does', 'did', 'doing', 'a', 'an', 'the', 'and', 'but', 'if', 'or', 'because', 'as', 'until', 'while', 'of', 'at', 'by', 'for', 'with', 'about', 'against', 'between', 'into', 'through', 'during', 'before', 'after', 'above', 'below', 'to', 'from', 'up', 'down', 'in', 'out', 'on', 'off', 'over', 'under', 'again', 'further', 'then', 'once', 'here', 'there', 'when', 'where', 'why', 'how', 'all', 'any', 'both', 'each', 'few', 'more', 'most', 'other', 'some', 'such', 'no', 'nor', 'not', 'only', 'own', 'same', 'so', 'than', 'too', 'very', 's', 't', 'can', 'will', 'just', 'don', \"don't\", 'should', \"should've\", 'now', 'd', 'll', 'm', 'o', 're', 've', 'y', 'ain', 'aren', \"aren't\", 'couldn', \"couldn't\", 'didn', \"didn't\", 'doesn', \"doesn't\", 'hadn', \"hadn't\", 'hasn', \"hasn't\", 'haven', \"haven't\", 'isn', \"isn't\", 'ma', 'mightn', \"mightn't\", 'mustn', \"mustn't\", 'needn', \"needn't\", 'shan', \"shan't\", 'shouldn', \"shouldn't\", 'wasn', \"wasn't\", 'weren', \"weren't\", 'won', \"won't\", 'wouldn', \"wouldn't\"]\n"
     ]
    }
   ],
   "source": [
    "# Viewed stopwords\n",
    "print(stopwords.words(\"english\"))"
   ]
  },
  {
   "cell_type": "code",
   "execution_count": 20,
   "metadata": {},
   "outputs": [
    {
     "name": "stdout",
     "output_type": "stream",
     "text": [
      "179\n",
      "218\n"
     ]
    }
   ],
   "source": [
    "# Added my own stopwords\n",
    "# from Stackoverflow\n",
    "from nltk.corpus import stopwords\n",
    "stop_words = stopwords.words('english')\n",
    "print(len(stop_words))\n",
    "stop_words.extend(['missingtextmissingtext', 'removed',\n",
    "                   'orlando','florida','ride','hotel', 'flight', 'ticket','park',                    \n",
    "                   'heat','trip', 'best', 'day', 'days', 'going', 'week', 'year',\n",
    "                   'question','help','time','parks','planning', 'thanks', 'want', 'know',\n",
    "                   'got', 'like','tickets','really', 'need', 'people', 'plan', 'use', 'early',\n",
    "                   'way', 'sure', 'went', 'advice', 'able', 'new', 'looking', 'today', 'think',\n",
    "                   'doe', 'wa', 'ha'\n",
    "                   \n",
    "                  ])\n",
    "print(len(stop_words))"
   ]
  },
  {
   "cell_type": "markdown",
   "metadata": {},
   "source": [
    "# Lemmatizer"
   ]
  },
  {
   "cell_type": "code",
   "execution_count": 21,
   "metadata": {},
   "outputs": [],
   "source": [
    "# Instiantiated the Lemmatizer\n",
    "lemmatizer = WordNetLemmatizer()"
   ]
  },
  {
   "cell_type": "code",
   "execution_count": 22,
   "metadata": {},
   "outputs": [],
   "source": [
    "# Created a Lemmatizing function\n",
    "# Credit to stack overflow\n",
    "def lemmatize_words(text):\n",
    "    lemms = text.split()\n",
    "    lemms_words = ''\n",
    "    for lemms in lemms:\n",
    "        lemms_words += (lemmatizer.lemmatize(lemms) + ' ')\n",
    "    return lemms_words"
   ]
  },
  {
   "cell_type": "code",
   "execution_count": 23,
   "metadata": {},
   "outputs": [
    {
     "data": {
      "text/plain": [
       "0       the magical world twitter missingtextmissingtext \n",
       "1       there are many main street america but there r...\n",
       "2       the only way travel the magic kingdom the magi...\n",
       "3       jungle cruise boat sinking missingtextmissingt...\n",
       "4       not staying resort how get the park transport ...\n",
       "                              ...                        \n",
       "1995    how have the crowd been the rest the park sinc...\n",
       "1996          who else here today missingtextmissingtext \n",
       "1997    can you use old wet wild souvenir cup the park...\n",
       "1998    hhn and island adventure hey all family coming...\n",
       "1999    the hulk fun ’ couple day ’ going universal an...\n",
       "Name: title_text, Length: 4000, dtype: object"
      ]
     },
     "execution_count": 23,
     "metadata": {},
     "output_type": "execute_result"
    }
   ],
   "source": [
    "# ran the function on my dataset\n",
    "fun['title_text'] = fun['title_text'].apply(lemmatize_words)\n",
    "fun['title_text']"
   ]
  },
  {
   "cell_type": "code",
   "execution_count": 24,
   "metadata": {},
   "outputs": [
    {
     "name": "stdout",
     "output_type": "stream",
     "text": [
      "['adventure', 'disney', 'epcot', 'experience', 'express', 'family', 'favorite', 'getting', 'good', 'hagrid', 'hhn', 'hotel', 'hour', 'kingdom', 'line', 'love', 'magic', 'make', 'night', 'open', 'orlando', 'park', 'pas', 'pass', 'place', 'post', 'resort', 'ride', 'say', 'staying', 'studio', 'thing', 'thread', 'ticket', 'universal', 'wait', 'wondering', 'work', 'world', 'worth']\n"
     ]
    }
   ],
   "source": [
    "# Making the top words used in the the combined Fun \n",
    "count_vect = CountVectorizer(stop_words = text.ENGLISH_STOP_WORDS.union(stop_words), #(Help from Ansul)\n",
    "                             max_features = 40) \n",
    "\n",
    "# input for CountVectorizer is an array of strings\n",
    "vector_input_fun = fun['title_text']\n",
    "\n",
    "# fit_transform the vectorizer\n",
    "fun_words = count_vect.fit_transform(vector_input_fun)\n",
    "\n",
    "# convert output to a Numpy array\n",
    "fun_words = fun_words.toarray()\n",
    "                          \n",
    "fun_word_list = count_vect.get_feature_names()\n",
    "print(fun_word_list)                        "
   ]
  },
  {
   "cell_type": "code",
   "execution_count": 25,
   "metadata": {},
   "outputs": [
    {
     "name": "stdout",
     "output_type": "stream",
     "text": [
      "['animal', 'disney', 'edge', 'epcot', 'experience', 'family', 'galaxy', 'hollywood', 'hour', 'kingdom', 'magic', 'make', 'night', 'park', 'resort', 'ride', 'studio', 'ticket', 'wdw', 'world']\n"
     ]
    }
   ],
   "source": [
    "# Making the top words used in the Disney subreddit\n",
    "count_vect = CountVectorizer(stop_words = text.ENGLISH_STOP_WORDS.union(stop_words), #(Help from Ansul)\n",
    "                             max_features = 20) \n",
    "\n",
    "# input for CountVectorizer is an array of strings\n",
    "vector_input_Disney = fun[fun['label'] == 1]['title_text']\n",
    "\n",
    "# fit_transform the vectorizer\n",
    "Disney_words = count_vect.fit_transform(vector_input_Disney)\n",
    "\n",
    "# convert output to a Numpy array\n",
    "Disney_words = Disney_words.toarray()\n",
    "\n",
    "# get the words\n",
    "Disney_word_list = count_vect.get_feature_names()\n",
    "print(Disney_word_list)"
   ]
  },
  {
   "cell_type": "code",
   "execution_count": 26,
   "metadata": {},
   "outputs": [
    {
     "name": "stdout",
     "output_type": "stream",
     "text": [
      "['adventure', 'bay', 'disney', 'experience', 'express', 'favorite', 'hagrid', 'harry', 'hhn', 'hotel', 'island', 'line', 'make', 'night', 'orlando', 'park', 'pas', 'pass', 'post', 'potter', 'resort', 'ride', 'studio', 'thing', 'thread', 'ticket', 'universal', 'wait', 'wondering', 'world']\n"
     ]
    }
   ],
   "source": [
    "# Making the top words used in the Universal subreddit\n",
    "count_vect = CountVectorizer(stop_words = text.ENGLISH_STOP_WORDS.union(stop_words), #(Help from Ansul)\n",
    "                             max_features = 30) \n",
    "\n",
    "# input for CountVectorizer is an array of strings\n",
    "vector_input_universal = fun[fun['label'] == 0]['title_text']\n",
    "\n",
    "# fit_transform the vectorizer\n",
    "universal_words = count_vect.fit_transform(vector_input_universal)\n",
    "\n",
    "# convert output to a Numpy array\n",
    "universal_words = universal_words.toarray()\n",
    "\n",
    "# get the words\n",
    "Universal_word_list = count_vect.get_feature_names()\n",
    "print(Universal_word_list)"
   ]
  },
  {
   "cell_type": "code",
   "execution_count": 82,
   "metadata": {},
   "outputs": [],
   "source": [
    "# Code for plot from Anshul"
   ]
  },
  {
   "cell_type": "code",
   "execution_count": 83,
   "metadata": {},
   "outputs": [
    {
     "data": {
      "text/html": [
       "<div>\n",
       "<style scoped>\n",
       "    .dataframe tbody tr th:only-of-type {\n",
       "        vertical-align: middle;\n",
       "    }\n",
       "\n",
       "    .dataframe tbody tr th {\n",
       "        vertical-align: top;\n",
       "    }\n",
       "\n",
       "    .dataframe thead th {\n",
       "        text-align: right;\n",
       "    }\n",
       "</style>\n",
       "<table border=\"1\" class=\"dataframe\">\n",
       "  <thead>\n",
       "    <tr style=\"text-align: right;\">\n",
       "      <th>target_subreddit</th>\n",
       "      <th>0</th>\n",
       "      <th>1</th>\n",
       "    </tr>\n",
       "  </thead>\n",
       "  <tbody>\n",
       "    <tr>\n",
       "      <th>universal</th>\n",
       "      <td>0.5395</td>\n",
       "      <td>0.0155</td>\n",
       "    </tr>\n",
       "    <tr>\n",
       "      <th>park</th>\n",
       "      <td>0.5195</td>\n",
       "      <td>0.1910</td>\n",
       "    </tr>\n",
       "    <tr>\n",
       "      <th>ride</th>\n",
       "      <td>0.3850</td>\n",
       "      <td>0.1250</td>\n",
       "    </tr>\n",
       "    <tr>\n",
       "      <th>ticket</th>\n",
       "      <td>0.1985</td>\n",
       "      <td>0.0605</td>\n",
       "    </tr>\n",
       "    <tr>\n",
       "      <th>pas</th>\n",
       "      <td>0.1535</td>\n",
       "      <td>0.0300</td>\n",
       "    </tr>\n",
       "  </tbody>\n",
       "</table>\n",
       "</div>"
      ],
      "text/plain": [
       "target_subreddit       0       1\n",
       "universal         0.5395  0.0155\n",
       "park              0.5195  0.1910\n",
       "ride              0.3850  0.1250\n",
       "ticket            0.1985  0.0605\n",
       "pas               0.1535  0.0300"
      ]
     },
     "execution_count": 83,
     "metadata": {},
     "output_type": "execute_result"
    }
   ],
   "source": [
    "# Code for freuently used word plot\n",
    "cvec2 = CountVectorizer(stop_words = text.ENGLISH_STOP_WORDS.union(stop_words),\n",
    "                               ngram_range =(1,1),\n",
    "                             max_features = 30)\n",
    "terms_sub = cvec2.fit_transform(fun['title_text'])\n",
    "terms_sub_df = pd.DataFrame(terms_sub.toarray(),columns = cvec2.get_feature_names())\n",
    "subr = np.where(fun['label'] == 1,1,0)\n",
    "terms_sub_df.insert(0, 'target_subreddit',subr)\n",
    "top_words = terms_sub_df.groupby('target_subreddit').mean().T.sort_values(0, ascending = False).head(30)\n",
    "top_words.head()"
   ]
  },
  {
   "cell_type": "code",
   "execution_count": 84,
   "metadata": {},
   "outputs": [
    {
     "data": {
      "image/png": "[encoded data removed]",
      "text/plain": [
       "<Figure size 1008x720 with 1 Axes>"
      ]
     },
     "metadata": {
      "needs_background": "light"
     },
     "output_type": "display_data"
    }
   ],
   "source": [
    "#  Code for freuently used word plot\n",
    "top_words.plot(y=[0,1], kind = 'barh', figsize = (14,10))\n",
    "plt.title(\"Most Frequently used words in either subreddit\")\n",
    "plt.legend(labels=['Universal', 'Disney'], fontsize =20);"
   ]
  },
  {
   "cell_type": "code",
   "execution_count": 34,
   "metadata": {},
   "outputs": [
    {
     "data": {
      "image/png": "[encoded data removed]",
      "text/plain": [
       "<Figure size 576x576 with 1 Axes>"
      ]
     },
     "metadata": {
      "needs_background": "light"
     },
     "output_type": "display_data"
    }
   ],
   "source": [
    "#Code From Geeksforgeeks\n",
    "comment_words = '' \n",
    "stop_words = text.ENGLISH_STOP_WORDS.union(stop_words)\n",
    "  \n",
    "# iterate through the csv file \n",
    "for val in fun_word_list: \n",
    "      \n",
    "    # typecaste each val to string \n",
    "    val = str(val) \n",
    "  \n",
    "    # split the value \n",
    "    tokens = val.split() \n",
    "      \n",
    "    # Converts each token into lowercase \n",
    "    for i in range(len(tokens)): \n",
    "        tokens[i] = tokens[i].lower() \n",
    "      \n",
    "    comment_words += \" \".join(tokens)+\" \"\n",
    "  \n",
    "wordcloud = WordCloud(width = 1200, height = 800, \n",
    "                background_color ='white', \n",
    "                stopwords = text.ENGLISH_STOP_WORDS.union(stop_words), \n",
    "                min_font_size = 10).generate(comment_words) \n",
    "  \n",
    "# plot the WordCloud image                        \n",
    "plt.figure(figsize = (8, 8), facecolor = None) \n",
    "plt.imshow(wordcloud) \n",
    "plt.axis(\"off\") \n",
    "plt.tight_layout(pad = 0) \n",
    "  \n",
    "plt.show() "
   ]
  },
  {
   "cell_type": "markdown",
   "metadata": {},
   "source": [
    "# I know word clouds are not data science, but I am planning on using it for my presentation"
   ]
  },
  {
   "cell_type": "markdown",
   "metadata": {},
   "source": [
    " # Model Set Up"
   ]
  },
  {
   "cell_type": "code",
   "execution_count": 87,
   "metadata": {},
   "outputs": [],
   "source": [
    "# set the x and y values\n",
    "X = fun['title_text']\n",
    "y = fun['label']"
   ]
  },
  {
   "cell_type": "code",
   "execution_count": 88,
   "metadata": {},
   "outputs": [],
   "source": [
    "# Split the data into the training and testing sets.\n",
    "# Stratify - want the correct balance of my y's\n",
    "X_train, X_test, y_train, y_test = train_test_split(X,\n",
    "                                                    y,\n",
    "                                                    stratify=y,      \n",
    "                                                    random_state=42)"
   ]
  },
  {
   "cell_type": "code",
   "execution_count": 89,
   "metadata": {},
   "outputs": [],
   "source": [
    "# Instantiate a CountVectorizer.\n",
    "cvec = CountVectorizer()"
   ]
  },
  {
   "cell_type": "code",
   "execution_count": 90,
   "metadata": {},
   "outputs": [
    {
     "data": {
      "text/plain": [
       "CountVectorizer(analyzer='word', binary=False, decode_error='strict',\n",
       "                dtype=<class 'numpy.int64'>, encoding='utf-8', input='content',\n",
       "                lowercase=True, max_df=1.0, max_features=None, min_df=1,\n",
       "                ngram_range=(1, 1), preprocessor=None, stop_words=None,\n",
       "                strip_accents=None, token_pattern='(?u)\\\\b\\\\w\\\\w+\\\\b',\n",
       "                tokenizer=None, vocabulary=None)"
      ]
     },
     "execution_count": 90,
     "metadata": {},
     "output_type": "execute_result"
    }
   ],
   "source": [
    "# Fit the vectorizer on our corpus.\n",
    "cvec.fit(X_train)"
   ]
  },
  {
   "cell_type": "code",
   "execution_count": 91,
   "metadata": {},
   "outputs": [],
   "source": [
    "# Transform the corpus.\n",
    "X_train = cvec.transform(X_train)"
   ]
  },
  {
   "cell_type": "code",
   "execution_count": 92,
   "metadata": {},
   "outputs": [],
   "source": [
    "# Convert X_train into a DataFrame.\n",
    "\n",
    "X_train_df = pd.DataFrame(X_train.toarray(),\n",
    "                          columns=cvec.get_feature_names())"
   ]
  },
  {
   "cell_type": "code",
   "execution_count": 93,
   "metadata": {},
   "outputs": [],
   "source": [
    "# Transform test\n",
    "X_test = cvec.transform(X_test)\n",
    "X_test_df = pd.DataFrame(X_test.toarray(),\n",
    "                         columns=cvec.get_feature_names())"
   ]
  },
  {
   "cell_type": "markdown",
   "metadata": {},
   "source": [
    "# Count Vectorizer"
   ]
  },
  {
   "cell_type": "code",
   "execution_count": 42,
   "metadata": {},
   "outputs": [],
   "source": [
    "# set the x and y values\n",
    "\n",
    "X = fun['title_text']\n",
    "y = fun['label']"
   ]
  },
  {
   "cell_type": "code",
   "execution_count": 43,
   "metadata": {},
   "outputs": [],
   "source": [
    "# Redefine training and testing sets.\n",
    "X_train, X_test, y_train, y_test = train_test_split(X,\n",
    "                                                    y,\n",
    "                                                    test_size=0.33,\n",
    "                                                    stratify=y,\n",
    "                                                    random_state=42)"
   ]
  },
  {
   "cell_type": "code",
   "execution_count": 44,
   "metadata": {},
   "outputs": [
    {
     "data": {
      "text/plain": [
       "1    0.5\n",
       "0    0.5\n",
       "Name: label, dtype: float64"
      ]
     },
     "execution_count": 44,
     "metadata": {},
     "output_type": "execute_result"
    }
   ],
   "source": [
    "# Baseline\n",
    "y_test.value_counts(normalize=True)"
   ]
  },
  {
   "cell_type": "code",
   "execution_count": 45,
   "metadata": {},
   "outputs": [],
   "source": [
    "# Tried lasso and ridge with alpha of 1 and 10.\n",
    "pipe = Pipeline([\n",
    "    ('cvec', CountVectorizer(stop_words = text.ENGLISH_STOP_WORDS.union(stop_words))),\n",
    "    ('lr', LogisticRegression(penalty = 'l2', C=1, solver = 'liblinear'))\n",
    "])"
   ]
  },
  {
   "cell_type": "code",
   "execution_count": 46,
   "metadata": {},
   "outputs": [],
   "source": [
    "# Experimented with different parameters to use in modeling\n",
    "\n",
    "pipe_params = {\n",
    "    'cvec__max_features': [4_500, 4750,5000],\n",
    "#     'cvec__min_df': [2, 3],\n",
    "#     'cvec__max_df': [.9, .95],\n",
    "    'cvec__ngram_range': [(1,1), (1,4), (1,5), (1,6)]\n",
    "}"
   ]
  },
  {
   "cell_type": "code",
   "execution_count": 47,
   "metadata": {},
   "outputs": [],
   "source": [
    "gs = GridSearchCV(pipe, # what object are we optimizing?\n",
    "                  param_grid=pipe_params, # what parameters values are we searching?\n",
    "                  cv=5) # 5-fold cross-validation."
   ]
  },
  {
   "cell_type": "code",
   "execution_count": 48,
   "metadata": {},
   "outputs": [
    {
     "data": {
      "text/plain": [
       "GridSearchCV(cv=5, error_score=nan,\n",
       "             estimator=Pipeline(memory=None,\n",
       "                                steps=[('cvec',\n",
       "                                        CountVectorizer(analyzer='word',\n",
       "                                                        binary=False,\n",
       "                                                        decode_error='strict',\n",
       "                                                        dtype=<class 'numpy.int64'>,\n",
       "                                                        encoding='utf-8',\n",
       "                                                        input='content',\n",
       "                                                        lowercase=True,\n",
       "                                                        max_df=1.0,\n",
       "                                                        max_features=None,\n",
       "                                                        min_df=1,\n",
       "                                                        ngram_range=(1, 1),\n",
       "                                                        preprocessor=None,\n",
       "                                                        stop_words=frozenset({'a',\n",
       "                                                                              'able',\n",
       "                                                                              'about',\n",
       "                                                                              'above',\n",
       "                                                                              'acro...\n",
       "                                                           max_iter=100,\n",
       "                                                           multi_class='auto',\n",
       "                                                           n_jobs=None,\n",
       "                                                           penalty='l2',\n",
       "                                                           random_state=None,\n",
       "                                                           solver='liblinear',\n",
       "                                                           tol=0.0001,\n",
       "                                                           verbose=0,\n",
       "                                                           warm_start=False))],\n",
       "                                verbose=False),\n",
       "             iid='deprecated', n_jobs=None,\n",
       "             param_grid={'cvec__max_features': [4500, 4750, 5000],\n",
       "                         'cvec__ngram_range': [(1, 1), (1, 4), (1, 5), (1, 6)]},\n",
       "             pre_dispatch='2*n_jobs', refit=True, return_train_score=False,\n",
       "             scoring=None, verbose=0)"
      ]
     },
     "execution_count": 48,
     "metadata": {},
     "output_type": "execute_result"
    }
   ],
   "source": [
    "# Fit GridSearch to training data.\n",
    "gs.fit(X_train, y_train)"
   ]
  },
  {
   "cell_type": "code",
   "execution_count": 49,
   "metadata": {},
   "outputs": [
    {
     "name": "stdout",
     "output_type": "stream",
     "text": [
      "{'cvec__max_features': 4500, 'cvec__ngram_range': (1, 5)}\n"
     ]
    }
   ],
   "source": [
    "print(gs.best_params_)"
   ]
  },
  {
   "cell_type": "code",
   "execution_count": 50,
   "metadata": {},
   "outputs": [
    {
     "name": "stdout",
     "output_type": "stream",
     "text": [
      "0.8802238805970148\n"
     ]
    }
   ],
   "source": [
    "# What's the best score?\n",
    "print(gs.best_score_)"
   ]
  },
  {
   "cell_type": "code",
   "execution_count": 51,
   "metadata": {},
   "outputs": [],
   "source": [
    "# Save best model as gs_model.\n",
    "\n",
    "gs_model = gs.best_estimator_"
   ]
  },
  {
   "cell_type": "code",
   "execution_count": 52,
   "metadata": {},
   "outputs": [
    {
     "data": {
      "text/plain": [
       "0.9727611940298507"
      ]
     },
     "execution_count": 52,
     "metadata": {},
     "output_type": "execute_result"
    }
   ],
   "source": [
    "# Score model on training set.\n",
    "gs_model.score(X_train, y_train)"
   ]
  },
  {
   "cell_type": "code",
   "execution_count": 53,
   "metadata": {},
   "outputs": [
    {
     "data": {
      "text/plain": [
       "0.8803030303030303"
      ]
     },
     "execution_count": 53,
     "metadata": {},
     "output_type": "execute_result"
    }
   ],
   "source": [
    "# Score model on testing set.\n",
    "gs_model.score(X_test, y_test)"
   ]
  },
  {
   "cell_type": "markdown",
   "metadata": {},
   "source": [
    "# Multinomial Naive Bayes"
   ]
  },
  {
   "cell_type": "code",
   "execution_count": 54,
   "metadata": {},
   "outputs": [],
   "source": [
    "from sklearn.naive_bayes import MultinomialNB\n",
    "from sklearn.naive_bayes import GaussianNB\n",
    "# Started the count vectorizer\n",
    "cvec = CountVectorizer()\n",
    "train_data = cvec.fit_transform(X_train)\n",
    "test_data = cvec.transform(X_test)\n",
    "# Convert to array\n",
    "train_data = train_data.toarray()"
   ]
  },
  {
   "cell_type": "code",
   "execution_count": 55,
   "metadata": {},
   "outputs": [
    {
     "data": {
      "text/plain": [
       "0.9414179104477612"
      ]
     },
     "execution_count": 55,
     "metadata": {},
     "output_type": "execute_result"
    }
   ],
   "source": [
    "# Scored the multinomial\n",
    "mnb = MultinomialNB()\n",
    "mnb.fit(train_data, y_train)\n",
    "mnb.score(train_data, y_train)"
   ]
  },
  {
   "cell_type": "code",
   "execution_count": 56,
   "metadata": {},
   "outputs": [
    {
     "data": {
      "text/plain": [
       "0.8893939393939394"
      ]
     },
     "execution_count": 56,
     "metadata": {},
     "output_type": "execute_result"
    }
   ],
   "source": [
    "mnb.score(test_data, y_test)"
   ]
  },
  {
   "cell_type": "code",
   "execution_count": 57,
   "metadata": {},
   "outputs": [
    {
     "data": {
      "image/png": "[encoded data removed]",
      "text/plain": [
       "<Figure size 432x288 with 2 Axes>"
      ]
     },
     "metadata": {
      "needs_background": "light"
     },
     "output_type": "display_data"
    }
   ],
   "source": [
    "# Plottted confusion matrix\n",
    "plot_confusion_matrix(mnb, \n",
    "                      test_data, \n",
    "                      y_test, \n",
    "                      cmap=\"Purples\", \n",
    "                      values_format='4g');"
   ]
  },
  {
   "cell_type": "markdown",
   "metadata": {},
   "source": [
    "# Tfidf"
   ]
  },
  {
   "cell_type": "code",
   "execution_count": 58,
   "metadata": {},
   "outputs": [],
   "source": [
    "# Set Tfidf X and y\n",
    "tX = fun['title_text']\n",
    "ty = fun['label']"
   ]
  },
  {
   "cell_type": "code",
   "execution_count": 59,
   "metadata": {},
   "outputs": [],
   "source": [
    "# Redefine training and testing sets.\n",
    "tX_train, tX_test, ty_train, ty_test = train_test_split(tX,\n",
    "                                                    ty,\n",
    "                                                    test_size=0.33,\n",
    "                                                    stratify=y,\n",
    "                                                    random_state=42)"
   ]
  },
  {
   "cell_type": "code",
   "execution_count": 60,
   "metadata": {},
   "outputs": [
    {
     "data": {
      "text/plain": [
       "1    0.5\n",
       "0    0.5\n",
       "Name: label, dtype: float64"
      ]
     },
     "execution_count": 60,
     "metadata": {},
     "output_type": "execute_result"
    }
   ],
   "source": [
    "# Baseline\n",
    "y_test.value_counts(normalize=True)"
   ]
  },
  {
   "cell_type": "code",
   "execution_count": 61,
   "metadata": {},
   "outputs": [],
   "source": [
    "# Tried lasso and ridge with alpha of 1 and 10.\n",
    "\n",
    "pipe = Pipeline([\n",
    "    ('tvec', TfidfVectorizer(stop_words = text.ENGLISH_STOP_WORDS.union(stop_words))),\n",
    "    ('lr', LogisticRegression(penalty = 'l2', C=1, solver = 'liblinear'))\n",
    "])"
   ]
  },
  {
   "cell_type": "code",
   "execution_count": 62,
   "metadata": {},
   "outputs": [],
   "source": [
    "# Experimented with different parameters to use in modeling\n",
    "\n",
    "pipe_params = {\n",
    "    'tvec__max_features': [3_500, 3_750, 4_000, 4250],\n",
    "    'tvec__ngram_range': [(1,1), (1,2), (1,3), (1,4), (1,5)]\n",
    "}"
   ]
  },
  {
   "cell_type": "code",
   "execution_count": 63,
   "metadata": {},
   "outputs": [],
   "source": [
    "gs = GridSearchCV(pipe, # what object are we optimizing?\n",
    "                  param_grid=pipe_params, # what parameters values are we searching?\n",
    "                  cv=5) # 5-fold cross-validation."
   ]
  },
  {
   "cell_type": "code",
   "execution_count": 64,
   "metadata": {},
   "outputs": [
    {
     "data": {
      "text/plain": [
       "GridSearchCV(cv=5, error_score=nan,\n",
       "             estimator=Pipeline(memory=None,\n",
       "                                steps=[('tvec',\n",
       "                                        TfidfVectorizer(analyzer='word',\n",
       "                                                        binary=False,\n",
       "                                                        decode_error='strict',\n",
       "                                                        dtype=<class 'numpy.float64'>,\n",
       "                                                        encoding='utf-8',\n",
       "                                                        input='content',\n",
       "                                                        lowercase=True,\n",
       "                                                        max_df=1.0,\n",
       "                                                        max_features=None,\n",
       "                                                        min_df=1,\n",
       "                                                        ngram_range=(1, 1),\n",
       "                                                        norm='l2',\n",
       "                                                        preprocessor=None,\n",
       "                                                        smooth_idf=True,\n",
       "                                                        stop_words=frozenset({'a',...\n",
       "                                                           multi_class='auto',\n",
       "                                                           n_jobs=None,\n",
       "                                                           penalty='l2',\n",
       "                                                           random_state=None,\n",
       "                                                           solver='liblinear',\n",
       "                                                           tol=0.0001,\n",
       "                                                           verbose=0,\n",
       "                                                           warm_start=False))],\n",
       "                                verbose=False),\n",
       "             iid='deprecated', n_jobs=None,\n",
       "             param_grid={'tvec__max_features': [3500, 3750, 4000, 4250],\n",
       "                         'tvec__ngram_range': [(1, 1), (1, 2), (1, 3), (1, 4),\n",
       "                                               (1, 5)]},\n",
       "             pre_dispatch='2*n_jobs', refit=True, return_train_score=False,\n",
       "             scoring=None, verbose=0)"
      ]
     },
     "execution_count": 64,
     "metadata": {},
     "output_type": "execute_result"
    }
   ],
   "source": [
    "# Fit GridSearch to training data.\n",
    "gs.fit(tX_train, ty_train)"
   ]
  },
  {
   "cell_type": "code",
   "execution_count": 65,
   "metadata": {},
   "outputs": [
    {
     "name": "stdout",
     "output_type": "stream",
     "text": [
      "{'tvec__max_features': 3500, 'tvec__ngram_range': (1, 5)}\n"
     ]
    }
   ],
   "source": [
    "print(gs.best_params_)"
   ]
  },
  {
   "cell_type": "code",
   "execution_count": 66,
   "metadata": {},
   "outputs": [
    {
     "name": "stdout",
     "output_type": "stream",
     "text": [
      "0.882089552238806\n"
     ]
    }
   ],
   "source": [
    "# What's the best score?\n",
    "print(gs.best_score_)"
   ]
  },
  {
   "cell_type": "code",
   "execution_count": 67,
   "metadata": {},
   "outputs": [],
   "source": [
    "# Save best model as gs_model.\n",
    "gs_model = gs.best_estimator_"
   ]
  },
  {
   "cell_type": "code",
   "execution_count": 68,
   "metadata": {},
   "outputs": [
    {
     "data": {
      "text/plain": [
       "0.9600746268656717"
      ]
     },
     "execution_count": 68,
     "metadata": {},
     "output_type": "execute_result"
    }
   ],
   "source": [
    "# Score model on training set.\n",
    "gs_model.score(tX_train, ty_train)"
   ]
  },
  {
   "cell_type": "code",
   "execution_count": 69,
   "metadata": {},
   "outputs": [
    {
     "data": {
      "text/plain": [
       "0.8848484848484849"
      ]
     },
     "execution_count": 69,
     "metadata": {},
     "output_type": "execute_result"
    }
   ],
   "source": [
    "# Score model on testing set.\n",
    "gs_model.score(tX_test, ty_test)"
   ]
  },
  {
   "cell_type": "code",
   "execution_count": 70,
   "metadata": {},
   "outputs": [
    {
     "data": {
      "image/png": "[encoded data removed]",
      "text/plain": [
       "<Figure size 432x288 with 2 Axes>"
      ]
     },
     "metadata": {
      "needs_background": "light"
     },
     "output_type": "display_data"
    }
   ],
   "source": [
    "# Plottted confusion matrix\n",
    "plot_confusion_matrix(gs, \n",
    "                      tX_test, \n",
    "                      ty_test, \n",
    "                      cmap=\"Purples\", \n",
    "                      values_format='4g');"
   ]
  },
  {
   "cell_type": "markdown",
   "metadata": {},
   "source": [
    "# Gaussian Naive Bayes"
   ]
  },
  {
   "cell_type": "code",
   "execution_count": 71,
   "metadata": {},
   "outputs": [],
   "source": [
    "\n",
    "tvec = TfidfVectorizer()\n",
    "# Fit and transform\n",
    "train_data_t = tvec.fit_transform(X_train)\n",
    "\n",
    "test_data_t = tvec.transform(X_test)\n",
    "\n",
    "# Numpy arrays are easy to work with, so convert the result to an array.\n",
    "train_data_t = train_data_t.toarray()\n",
    "test_data_t = test_data_t.toarray()\n"
   ]
  },
  {
   "cell_type": "code",
   "execution_count": 72,
   "metadata": {},
   "outputs": [
    {
     "data": {
      "text/plain": [
       "0.9261194029850747"
      ]
     },
     "execution_count": 72,
     "metadata": {},
     "output_type": "execute_result"
    }
   ],
   "source": [
    "# FIt the training data dn scored it\n",
    "gnb = GaussianNB()\n",
    "gnb.fit(train_data_t, y_train)\n",
    "gnb.score(train_data_t, y_train)"
   ]
  },
  {
   "cell_type": "code",
   "execution_count": 73,
   "metadata": {},
   "outputs": [
    {
     "data": {
      "text/plain": [
       "0.7613636363636364"
      ]
     },
     "execution_count": 73,
     "metadata": {},
     "output_type": "execute_result"
    }
   ],
   "source": [
    "# Guassian did not perform well\n",
    "gnb.score(test_data_t, y_test)"
   ]
  },
  {
   "cell_type": "markdown",
   "metadata": {},
   "source": [
    "# Sentiment Analysis"
   ]
  },
  {
   "cell_type": "code",
   "execution_count": 74,
   "metadata": {},
   "outputs": [],
   "source": [
    "d = fun.loc[fun['label']==1,'title_text']\n",
    "u = fun.loc[fun['label']==0,'title_text']"
   ]
  },
  {
   "cell_type": "code",
   "execution_count": 156,
   "metadata": {},
   "outputs": [],
   "source": [
    "# Made lists of Positive and negative words\n",
    "positive_words = ['thank','wonder', 'wonderful','laugh','magic', 'magical','affordable','good', 'fun','enjoy','best','delicious',\n",
    "                  'helpful', 'enjoyed', 'ambiance', 'friendly', 'great', 'best', 'yummy','inexpensive', 'dream', 'pixie',\n",
    "                 'adore','amaze','amazing','pleasant','love','cute','wow','loves','teriffic', 'recommend', 'wild', 'grand', \n",
    "                  'happiest', 'happy', 'happiness', 'inspirational'\n",
    "                 ]\n",
    "negative_words = ['unbearable', 'bear', 'long', 'rude','waste', 'awful', 'gross', 'confusing', 'unfair','blows',\n",
    "                 'nasty', 'upset', 'worthless', 'worst', 'regret', 'annoying', 'problem', 'dissapoint', 'dissapointed', \n",
    "                 'despise', 'trouble', 'negative', 'unacceptable', 'hassle', 'hate', 'tragic', 'brutal', 'stupid', 'dumb', \n",
    "                 \"painful\", 'refuse', 'drunk', 'remorse', 'sick', 'shame', 'ashamed']"
   ]
  },
  {
   "cell_type": "code",
   "execution_count": 157,
   "metadata": {},
   "outputs": [
    {
     "data": {
      "text/plain": [
       "0.948905109489051"
      ]
     },
     "execution_count": 157,
     "metadata": {},
     "output_type": "execute_result"
    }
   ],
   "source": [
    "# Created ths function based on the one in our class notebook and edited with help major help from Dan\n",
    "dmt=[]\n",
    "dnt=[]\n",
    "dlt =[]\n",
    "for t in d:\n",
    "            # Instantiate tokenizer.\n",
    "    tokenizer = RegexpTokenizer(r'\\w+') # splitting up words while getting rid of punctuation and line breaks\n",
    "    tokens = tokenizer.tokenize(t) # force the text to be lower case\n",
    "    p_stemmer = PorterStemmer()\n",
    "    stemmed_words = [p_stemmer.stem(i) for i in tokens]\n",
    "    dlt.append(stemmed_words)\n",
    "    positive_stems = [p_stemmer.stem(i) for i in set(positive_words)]\n",
    "    negative_stems = [p_stemmer.stem(i) for i in set(negative_words)]\n",
    "    positive_count = len([i for i in stemmed_words if i in positive_stems])\n",
    "    negative_count = len([i for i in stemmed_words if i in negative_stems])\n",
    "    if positive_count - negative_count > 0:\n",
    "        dmt.append(1)\n",
    "    elif positive_count-negative_count<0:\n",
    "        dnt.append(1)\n",
    "\n",
    "sum(dmt)/(sum(dmt)+sum(dnt))\n"
   ]
  },
  {
   "cell_type": "code",
   "execution_count": 158,
   "metadata": {},
   "outputs": [
    {
     "data": {
      "text/plain": [
       "650"
      ]
     },
     "execution_count": 158,
     "metadata": {},
     "output_type": "execute_result"
    }
   ],
   "source": [
    "# disney positive posts\n",
    "sum(dmt)"
   ]
  },
  {
   "cell_type": "code",
   "execution_count": 159,
   "metadata": {},
   "outputs": [
    {
     "data": {
      "text/plain": [
       "35"
      ]
     },
     "execution_count": 159,
     "metadata": {},
     "output_type": "execute_result"
    }
   ],
   "source": [
    "# disney negative posts\n",
    "sum(dnt)"
   ]
  },
  {
   "cell_type": "code",
   "execution_count": 160,
   "metadata": {},
   "outputs": [
    {
     "data": {
      "text/plain": [
       "0.9010152284263959"
      ]
     },
     "execution_count": 160,
     "metadata": {},
     "output_type": "execute_result"
    }
   ],
   "source": [
    "umt=[]\n",
    "unt=[]\n",
    "ult=[]\n",
    "for t in u:\n",
    "            # Instantiate tokenizer.\n",
    "    tokenizer = RegexpTokenizer(r'\\w+') # splitting up words while getting rid of punctuation and line breaks\n",
    "    # Tokenize text.\n",
    "    tokens = tokenizer.tokenize(t) # force the text to be lower case\n",
    "#     mt.append(tokens)  \n",
    "    p_stemmer = PorterStemmer()\n",
    "        # Stem words.\n",
    "    stemmed_words = [p_stemmer.stem(i) for i in tokens]\n",
    "    ult.append(stemmed_words)\n",
    "    positive_stems = [p_stemmer.stem(i) for i in set(positive_words)]\n",
    "    negative_stems = [p_stemmer.stem(i) for i in set(negative_words)]\n",
    "    positive_count = len([i for i in stemmed_words if i in positive_stems])\n",
    "    negative_count = len([i for i in stemmed_words if i in negative_stems])\n",
    "    if positive_count - negative_count > 0: # appends count to umt\n",
    "        umt.append(1)\n",
    "    elif positive_count-negative_count<0:\n",
    "        unt.append(1)\n",
    "sum(umt)/(sum(umt)+sum(unt))"
   ]
  },
  {
   "cell_type": "code",
   "execution_count": 161,
   "metadata": {},
   "outputs": [
    {
     "data": {
      "text/plain": [
       "710"
      ]
     },
     "execution_count": 161,
     "metadata": {},
     "output_type": "execute_result"
    }
   ],
   "source": [
    "# Universal positive posts\n",
    "sum(umt)"
   ]
  },
  {
   "cell_type": "code",
   "execution_count": 162,
   "metadata": {},
   "outputs": [
    {
     "data": {
      "text/plain": [
       "78"
      ]
     },
     "execution_count": 162,
     "metadata": {},
     "output_type": "execute_result"
    }
   ],
   "source": [
    "# Universal negative posts\n",
    "sum(unt)"
   ]
  }
 ],
 "metadata": {
  "kernelspec": {
   "display_name": "Python 3",
   "language": "python",
   "name": "python3"
  },
  "language_info": {
   "codemirror_mode": {
    "name": "ipython",
    "version": 3
   },
   "file_extension": ".py",
   "mimetype": "text/x-python",
   "name": "python",
   "nbconvert_exporter": "python",
   "pygments_lexer": "ipython3",
   "version": "3.7.6"
  }
 },
 "nbformat": 4,
 "nbformat_minor": 4
}
